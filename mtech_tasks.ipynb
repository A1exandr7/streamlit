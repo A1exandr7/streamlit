{
 "cells": [
  {
   "cell_type": "markdown",
   "id": "ecbfdf4a",
   "metadata": {},
   "source": [
    "\n",
    "> **Руководство компании обратило внимание на то, что сотрудники старше 35 лет болеют чаще, чем более молодые сотрудники. Кроме этого, среди мужчин количество пропусков рабочих дней в связи с больничным выше, чем среди женщин. В связи с этой ситуацией, руководство организации планирует ввести дополнительные медицинские осмотры среди групп риска.**\n",
    "\n",
    "- **Вам необходимо проверить следующие гипотезы:**\n",
    "    - 1) `Мужчины пропускают в течение года более 2 рабочих дней (work_days) по болезни значимо чаще женщин.`\n",
    "    - 2) `Работники старше 35 лет (age) пропускают в течение года более 2 рабочих дней (work_days) по болезни значимо чаще своих более молодых коллег.`"
   ]
  },
  {
   "cell_type": "code",
   "execution_count": 1,
   "id": "42480405",
   "metadata": {},
   "outputs": [],
   "source": [
    "#импортируем библиотеки для работы\n",
    "import pandas as pd\n",
    "import numpy as np\n",
    "from scipy.stats import ttest_ind\n",
    "from matplotlib import pyplot as plt\n",
    "import seaborn as sns\n",
    "import os\n",
    "\n",
    "#настройки графиков\n",
    "sns.set_style('darkgrid')\n",
    "plt.rc('xtick', labelsize=18)\n",
    "plt.rc('ytick', labelsize=18)\n",
    "plt.rc('font', size= 12)"
   ]
  },
  {
   "cell_type": "markdown",
   "id": "9ba5cf7b",
   "metadata": {},
   "source": [
    "# 1. Загрузка данных"
   ]
  },
  {
   "cell_type": "code",
   "execution_count": 2,
   "id": "c5157e07",
   "metadata": {},
   "outputs": [],
   "source": [
    "PATH = os.path.join(os.getcwd(), 'М.Тех_Данные_к_ТЗ_DS.csv')"
   ]
  },
  {
   "cell_type": "code",
   "execution_count": 3,
   "id": "94cda926",
   "metadata": {},
   "outputs": [],
   "source": [
    "data = pd.read_csv(PATH, encoding='cp1251',  quotechar=',')"
   ]
  },
  {
   "cell_type": "code",
   "execution_count": 4,
   "id": "e30ca5e0",
   "metadata": {},
   "outputs": [
    {
     "data": {
      "text/html": [
       "<div>\n",
       "<style scoped>\n",
       "    .dataframe tbody tr th:only-of-type {\n",
       "        vertical-align: middle;\n",
       "    }\n",
       "\n",
       "    .dataframe tbody tr th {\n",
       "        vertical-align: top;\n",
       "    }\n",
       "\n",
       "    .dataframe thead th {\n",
       "        text-align: right;\n",
       "    }\n",
       "</style>\n",
       "<table border=\"1\" class=\"dataframe\">\n",
       "  <thead>\n",
       "    <tr style=\"text-align: right;\">\n",
       "      <th></th>\n",
       "      <th>\"Количество больничных дней</th>\n",
       "      <th>\"\"Возраст\"\"</th>\n",
       "      <th>\"\"Пол\"\"\"</th>\n",
       "    </tr>\n",
       "  </thead>\n",
       "  <tbody>\n",
       "    <tr>\n",
       "      <th>0</th>\n",
       "      <td>\"5</td>\n",
       "      <td>39</td>\n",
       "      <td>\"\"Ж\"\"\"</td>\n",
       "    </tr>\n",
       "    <tr>\n",
       "      <th>1</th>\n",
       "      <td>\"4</td>\n",
       "      <td>54</td>\n",
       "      <td>\"\"М\"\"\"</td>\n",
       "    </tr>\n",
       "    <tr>\n",
       "      <th>2</th>\n",
       "      <td>\"4</td>\n",
       "      <td>26</td>\n",
       "      <td>\"\"М\"\"\"</td>\n",
       "    </tr>\n",
       "    <tr>\n",
       "      <th>3</th>\n",
       "      <td>\"5</td>\n",
       "      <td>42</td>\n",
       "      <td>\"\"М\"\"\"</td>\n",
       "    </tr>\n",
       "    <tr>\n",
       "      <th>4</th>\n",
       "      <td>\"4</td>\n",
       "      <td>29</td>\n",
       "      <td>\"\"М\"\"\"</td>\n",
       "    </tr>\n",
       "    <tr>\n",
       "      <th>...</th>\n",
       "      <td>...</td>\n",
       "      <td>...</td>\n",
       "      <td>...</td>\n",
       "    </tr>\n",
       "    <tr>\n",
       "      <th>232</th>\n",
       "      <td>\"5</td>\n",
       "      <td>30</td>\n",
       "      <td>\"\"М\"\"\"</td>\n",
       "    </tr>\n",
       "    <tr>\n",
       "      <th>233</th>\n",
       "      <td>\"4</td>\n",
       "      <td>36</td>\n",
       "      <td>\"\"Ж\"\"\"</td>\n",
       "    </tr>\n",
       "    <tr>\n",
       "      <th>234</th>\n",
       "      <td>\"2</td>\n",
       "      <td>60</td>\n",
       "      <td>\"\"Ж\"\"\"</td>\n",
       "    </tr>\n",
       "    <tr>\n",
       "      <th>235</th>\n",
       "      <td>\"2</td>\n",
       "      <td>44</td>\n",
       "      <td>\"\"Ж\"\"\"</td>\n",
       "    </tr>\n",
       "    <tr>\n",
       "      <th>236</th>\n",
       "      <td>\"3</td>\n",
       "      <td>37</td>\n",
       "      <td>\"\"М\"\"\"</td>\n",
       "    </tr>\n",
       "  </tbody>\n",
       "</table>\n",
       "<p>237 rows × 3 columns</p>\n",
       "</div>"
      ],
      "text/plain": [
       "    \"Количество больничных дней  \"\"Возраст\"\" \"\"Пол\"\"\"\n",
       "0                            \"5           39   \"\"Ж\"\"\"\n",
       "1                            \"4           54   \"\"М\"\"\"\n",
       "2                            \"4           26   \"\"М\"\"\"\n",
       "3                            \"5           42   \"\"М\"\"\"\n",
       "4                            \"4           29   \"\"М\"\"\"\n",
       "..                          ...          ...      ...\n",
       "232                          \"5           30   \"\"М\"\"\"\n",
       "233                          \"4           36   \"\"Ж\"\"\"\n",
       "234                          \"2           60   \"\"Ж\"\"\"\n",
       "235                          \"2           44   \"\"Ж\"\"\"\n",
       "236                          \"3           37   \"\"М\"\"\"\n",
       "\n",
       "[237 rows x 3 columns]"
      ]
     },
     "execution_count": 4,
     "metadata": {},
     "output_type": "execute_result"
    }
   ],
   "source": [
    "data"
   ]
  },
  {
   "cell_type": "code",
   "execution_count": 5,
   "id": "cb64f829",
   "metadata": {},
   "outputs": [
    {
     "data": {
      "text/plain": [
       "(237, 3)"
      ]
     },
     "execution_count": 5,
     "metadata": {},
     "output_type": "execute_result"
    }
   ],
   "source": [
    "#размер таблицы\n",
    "data.shape"
   ]
  },
  {
   "cell_type": "code",
   "execution_count": 6,
   "id": "ba3c3f76",
   "metadata": {},
   "outputs": [
    {
     "data": {
      "text/plain": [
       "\"Количество больничных дней    object\n",
       "\"\"Возраст\"\"                     int64\n",
       "\"\"Пол\"\"\"                       object\n",
       "dtype: object"
      ]
     },
     "execution_count": 6,
     "metadata": {},
     "output_type": "execute_result"
    }
   ],
   "source": [
    "#посмотрим типы данных\n",
    "data.dtypes"
   ]
  },
  {
   "cell_type": "code",
   "execution_count": 7,
   "id": "af85569d",
   "metadata": {},
   "outputs": [],
   "source": [
    "#переименуем столбцы для удобства\n",
    "data.rename(columns={'\"Количество больничных дней': 'Количество больничных дней',\n",
    "                     '\"\"Возраст\"\"': 'Возраст',\n",
    "                     '\"\"Пол\"\"\"': 'Пол'}, inplace=True)\n",
    "\n",
    "#удалим кавычки из столбцов \n",
    "data['Количество больничных дней'] = data['Количество больничных дней'].str.strip('\"').astype(int)\n",
    "data['Пол'] = data['Пол'].str.strip('\"')"
   ]
  },
  {
   "cell_type": "code",
   "execution_count": 8,
   "id": "810d4221",
   "metadata": {},
   "outputs": [
    {
     "data": {
      "text/html": [
       "<div>\n",
       "<style scoped>\n",
       "    .dataframe tbody tr th:only-of-type {\n",
       "        vertical-align: middle;\n",
       "    }\n",
       "\n",
       "    .dataframe tbody tr th {\n",
       "        vertical-align: top;\n",
       "    }\n",
       "\n",
       "    .dataframe thead th {\n",
       "        text-align: right;\n",
       "    }\n",
       "</style>\n",
       "<table border=\"1\" class=\"dataframe\">\n",
       "  <thead>\n",
       "    <tr style=\"text-align: right;\">\n",
       "      <th></th>\n",
       "      <th>Количество больничных дней</th>\n",
       "      <th>Возраст</th>\n",
       "      <th>Пол</th>\n",
       "    </tr>\n",
       "  </thead>\n",
       "  <tbody>\n",
       "    <tr>\n",
       "      <th>0</th>\n",
       "      <td>5</td>\n",
       "      <td>39</td>\n",
       "      <td>Ж</td>\n",
       "    </tr>\n",
       "    <tr>\n",
       "      <th>1</th>\n",
       "      <td>4</td>\n",
       "      <td>54</td>\n",
       "      <td>М</td>\n",
       "    </tr>\n",
       "    <tr>\n",
       "      <th>2</th>\n",
       "      <td>4</td>\n",
       "      <td>26</td>\n",
       "      <td>М</td>\n",
       "    </tr>\n",
       "    <tr>\n",
       "      <th>3</th>\n",
       "      <td>5</td>\n",
       "      <td>42</td>\n",
       "      <td>М</td>\n",
       "    </tr>\n",
       "    <tr>\n",
       "      <th>4</th>\n",
       "      <td>4</td>\n",
       "      <td>29</td>\n",
       "      <td>М</td>\n",
       "    </tr>\n",
       "  </tbody>\n",
       "</table>\n",
       "</div>"
      ],
      "text/plain": [
       "   Количество больничных дней  Возраст Пол\n",
       "0                           5       39   Ж\n",
       "1                           4       54   М\n",
       "2                           4       26   М\n",
       "3                           5       42   М\n",
       "4                           4       29   М"
      ]
     },
     "execution_count": 8,
     "metadata": {},
     "output_type": "execute_result"
    }
   ],
   "source": [
    "#проверим\n",
    "data.head()"
   ]
  },
  {
   "cell_type": "markdown",
   "id": "d444bf7d",
   "metadata": {},
   "source": [
    "**Вывод:**\n",
    "- **Загрузили данные, всего 237 строк и 3 столбца**\n",
    "- **Избавились от лишних кавычек в столбцах и в значениях, так же во избежание проблем с кодировкой в дальнейшем, при работе с данными можно предложить использовать латиницу вместо кириллицы**"
   ]
  },
  {
   "cell_type": "markdown",
   "id": "5fdcda57",
   "metadata": {},
   "source": [
    "# 1.2 EDA"
   ]
  },
  {
   "cell_type": "code",
   "execution_count": 9,
   "id": "d3fcbf03",
   "metadata": {},
   "outputs": [
    {
     "data": {
      "text/plain": [
       "Количество больничных дней    0\n",
       "Возраст                       0\n",
       "Пол                           0\n",
       "dtype: int64"
      ]
     },
     "execution_count": 9,
     "metadata": {},
     "output_type": "execute_result"
    }
   ],
   "source": [
    "#считаем пропуски\n",
    "data.isna().sum()"
   ]
  },
  {
   "cell_type": "code",
   "execution_count": 10,
   "id": "04eca318",
   "metadata": {},
   "outputs": [
    {
     "data": {
      "text/html": [
       "<div>\n",
       "<style scoped>\n",
       "    .dataframe tbody tr th:only-of-type {\n",
       "        vertical-align: middle;\n",
       "    }\n",
       "\n",
       "    .dataframe tbody tr th {\n",
       "        vertical-align: top;\n",
       "    }\n",
       "\n",
       "    .dataframe thead th {\n",
       "        text-align: right;\n",
       "    }\n",
       "</style>\n",
       "<table border=\"1\" class=\"dataframe\">\n",
       "  <thead>\n",
       "    <tr style=\"text-align: right;\">\n",
       "      <th></th>\n",
       "      <th>Количество больничных дней</th>\n",
       "      <th>Возраст</th>\n",
       "    </tr>\n",
       "  </thead>\n",
       "  <tbody>\n",
       "    <tr>\n",
       "      <th>count</th>\n",
       "      <td>237.000000</td>\n",
       "      <td>237.000000</td>\n",
       "    </tr>\n",
       "    <tr>\n",
       "      <th>mean</th>\n",
       "      <td>3.257384</td>\n",
       "      <td>40.181435</td>\n",
       "    </tr>\n",
       "    <tr>\n",
       "      <th>std</th>\n",
       "      <td>1.807821</td>\n",
       "      <td>6.875157</td>\n",
       "    </tr>\n",
       "    <tr>\n",
       "      <th>min</th>\n",
       "      <td>0.000000</td>\n",
       "      <td>23.000000</td>\n",
       "    </tr>\n",
       "    <tr>\n",
       "      <th>25%</th>\n",
       "      <td>2.000000</td>\n",
       "      <td>36.000000</td>\n",
       "    </tr>\n",
       "    <tr>\n",
       "      <th>50%</th>\n",
       "      <td>3.000000</td>\n",
       "      <td>41.000000</td>\n",
       "    </tr>\n",
       "    <tr>\n",
       "      <th>75%</th>\n",
       "      <td>4.000000</td>\n",
       "      <td>45.000000</td>\n",
       "    </tr>\n",
       "    <tr>\n",
       "      <th>max</th>\n",
       "      <td>8.000000</td>\n",
       "      <td>60.000000</td>\n",
       "    </tr>\n",
       "  </tbody>\n",
       "</table>\n",
       "</div>"
      ],
      "text/plain": [
       "       Количество больничных дней     Возраст\n",
       "count                  237.000000  237.000000\n",
       "mean                     3.257384   40.181435\n",
       "std                      1.807821    6.875157\n",
       "min                      0.000000   23.000000\n",
       "25%                      2.000000   36.000000\n",
       "50%                      3.000000   41.000000\n",
       "75%                      4.000000   45.000000\n",
       "max                      8.000000   60.000000"
      ]
     },
     "execution_count": 10,
     "metadata": {},
     "output_type": "execute_result"
    }
   ],
   "source": [
    "#статистика\n",
    "data.describe()"
   ]
  },
  {
   "cell_type": "code",
   "execution_count": 11,
   "id": "77b88610",
   "metadata": {},
   "outputs": [
    {
     "data": {
      "text/plain": [
       "М    139\n",
       "Ж     98\n",
       "Name: Пол, dtype: int64"
      ]
     },
     "execution_count": 11,
     "metadata": {},
     "output_type": "execute_result"
    }
   ],
   "source": [
    "data['Пол'].value_counts()"
   ]
  },
  {
   "cell_type": "code",
   "execution_count": 12,
   "id": "c91443a9",
   "metadata": {
    "scrolled": true
   },
   "outputs": [
    {
     "name": "stdout",
     "output_type": "stream",
     "text": [
      "Количество больничных дней\n",
      "8     5\n",
      "0     9\n",
      "7    10\n",
      "6    14\n",
      "5    20\n",
      "1    30\n",
      "2    47\n",
      "4    48\n",
      "3    54\n",
      "Name: Количество больничных дней, dtype: int64\n",
      "\n",
      "Возраст\n",
      "60     1\n",
      "24     1\n",
      "28     1\n",
      "57     1\n",
      "25     2\n",
      "53     2\n",
      "23     2\n",
      "55     2\n",
      "51     2\n",
      "26     2\n",
      "54     2\n",
      "29     3\n",
      "32     4\n",
      "52     4\n",
      "27     4\n",
      "33     5\n",
      "31     6\n",
      "30     6\n",
      "49     7\n",
      "48     7\n",
      "50     7\n",
      "46     7\n",
      "44     7\n",
      "47     8\n",
      "37     8\n",
      "34    10\n",
      "35    11\n",
      "40    11\n",
      "38    11\n",
      "45    13\n",
      "39    13\n",
      "43    14\n",
      "36    16\n",
      "42    17\n",
      "41    20\n",
      "Name: Возраст, dtype: int64\n",
      "\n",
      "Пол\n",
      "Ж     98\n",
      "М    139\n",
      "Name: Пол, dtype: int64\n",
      "\n"
     ]
    }
   ],
   "source": [
    "#посмотрим значения в данных\n",
    "for column in data.columns:\n",
    "    print(column)\n",
    "    print(data[column].value_counts(ascending=True))\n",
    "    print()"
   ]
  },
  {
   "cell_type": "markdown",
   "id": "6989fa9a",
   "metadata": {},
   "source": [
    "**Вывод:**\n",
    "- **Возраст сотрудников в компании от 23 до 60 лет**\n",
    "- **В среднем у сотрудника больничный длится 3 дня, самый длительное отсутствие сотрудников по болезни составляет 8 дней**\n",
    "- **Мужчин в компании(139 сотрудников) больше чем женщин(98 сотрудниц)**"
   ]
  },
  {
   "cell_type": "code",
   "execution_count": 13,
   "id": "bce92f57",
   "metadata": {},
   "outputs": [
    {
     "data": {
      "image/png": "[encoded data removed]",
      "text/plain": [
       "<Figure size 1000x500 with 1 Axes>"
      ]
     },
     "metadata": {},
     "output_type": "display_data"
    }
   ],
   "source": [
    "plt.figure(figsize=(10, 5))\n",
    "sns.histplot(data=data,x='Возраст', hue='Пол', bins=np.arange(data['Возраст'].min(), data['Возраст'].max(), 1))\n",
    "plt.title('Распределение Возраста')\n",
    "plt.ylabel('Кол-во сотрудников')\n",
    "plt.show()"
   ]
  },
  {
   "cell_type": "code",
   "execution_count": 14,
   "id": "29acbbf3",
   "metadata": {},
   "outputs": [
    {
     "data": {
      "text/plain": [
       "21"
      ]
     },
     "execution_count": 14,
     "metadata": {},
     "output_type": "execute_result"
    }
   ],
   "source": [
    "#количество людей в возрасте до\n",
    "len(data[(data['Возраст']<=30)])"
   ]
  },
  {
   "cell_type": "code",
   "execution_count": 15,
   "id": "6d9ad10a",
   "metadata": {},
   "outputs": [
    {
     "data": {
      "text/plain": [
       "220"
      ]
     },
     "execution_count": 15,
     "metadata": {},
     "output_type": "execute_result"
    }
   ],
   "source": [
    "#количество людей в возрасте от 30 до 55\n",
    "len(data[(data['Возраст']>=30) & (data['Возраст']<=55)])"
   ]
  },
  {
   "cell_type": "markdown",
   "id": "cacdd0db",
   "metadata": {},
   "source": [
    "**Вывод:**\n",
    "- **Посмотрели как распределен возраст сотрудников в компании - большая часть сотрудников(220 человек)в возрасте от 30 до 55 лет, среди мужчин больше всего сотрудников в возрасте 41 год, среди женщин сотрудниц в возрасте 40 лет**"
   ]
  },
  {
   "cell_type": "code",
   "execution_count": 16,
   "id": "6798739f",
   "metadata": {},
   "outputs": [
    {
     "data": {
      "image/png": "[encoded data removed]",
      "text/plain": [
       "<Figure size 1000x500 with 1 Axes>"
      ]
     },
     "metadata": {},
     "output_type": "display_data"
    }
   ],
   "source": [
    "plt.figure(figsize=(10, 5))\n",
    "sns.histplot(data=data,x='Количество больничных дней', hue='Пол', bins=20)\n",
    "plt.title('Распределение больничных дней')\n",
    "plt.ylabel('Кол-во сотрудников')\n",
    "plt.show()"
   ]
  },
  {
   "cell_type": "code",
   "execution_count": 17,
   "id": "a55b08e4",
   "metadata": {},
   "outputs": [
    {
     "data": {
      "text/html": [
       "<div>\n",
       "<style scoped>\n",
       "    .dataframe tbody tr th:only-of-type {\n",
       "        vertical-align: middle;\n",
       "    }\n",
       "\n",
       "    .dataframe tbody tr th {\n",
       "        vertical-align: top;\n",
       "    }\n",
       "\n",
       "    .dataframe thead th {\n",
       "        text-align: right;\n",
       "    }\n",
       "</style>\n",
       "<table border=\"1\" class=\"dataframe\">\n",
       "  <thead>\n",
       "    <tr style=\"text-align: right;\">\n",
       "      <th></th>\n",
       "      <th>mean</th>\n",
       "    </tr>\n",
       "    <tr>\n",
       "      <th>Пол</th>\n",
       "      <th></th>\n",
       "    </tr>\n",
       "  </thead>\n",
       "  <tbody>\n",
       "    <tr>\n",
       "      <th>Ж</th>\n",
       "      <td>3.367347</td>\n",
       "    </tr>\n",
       "    <tr>\n",
       "      <th>М</th>\n",
       "      <td>3.179856</td>\n",
       "    </tr>\n",
       "  </tbody>\n",
       "</table>\n",
       "</div>"
      ],
      "text/plain": [
       "         mean\n",
       "Пол          \n",
       "Ж    3.367347\n",
       "М    3.179856"
      ]
     },
     "execution_count": 17,
     "metadata": {},
     "output_type": "execute_result"
    }
   ],
   "source": [
    "#статистически посмотрим среднюю продолжительность \n",
    "#больничного между мужчинами и женщинами\n",
    "data.groupby('Пол')['Количество больничных дней'].agg(['mean'])"
   ]
  },
  {
   "cell_type": "markdown",
   "id": "9cccc5bd",
   "metadata": {},
   "source": [
    "**Вывод:**\n",
    "- **На графике видно, что мужчины чаще берут больничный на 2-3 дня, женщины чаще берут больничный на 3-4 дня**"
   ]
  },
  {
   "cell_type": "code",
   "execution_count": 18,
   "id": "cf4fbfd5",
   "metadata": {},
   "outputs": [
    {
     "data": {
      "image/png": "[encoded data removed]",
      "text/plain": [
       "<Figure size 1000x500 with 1 Axes>"
      ]
     },
     "metadata": {},
     "output_type": "display_data"
    }
   ],
   "source": [
    "plt.figure(figsize=(10, 5))\n",
    "sns.scatterplot(x='Возраст', y='Количество больничных дней', data=data[data['Пол']=='М'])\n",
    "plt.title('Зависимость больничных от возраста Мужчины')\n",
    "plt.show()"
   ]
  },
  {
   "cell_type": "code",
   "execution_count": 19,
   "id": "3f26cea8",
   "metadata": {},
   "outputs": [
    {
     "data": {
      "image/png": "[encoded data removed]",
      "text/plain": [
       "<Figure size 1000x500 with 1 Axes>"
      ]
     },
     "metadata": {},
     "output_type": "display_data"
    }
   ],
   "source": [
    "plt.figure(figsize=(10, 5))\n",
    "sns.scatterplot(x='Возраст', y='Количество больничных дней', data=data[data['Пол']=='Ж'])\n",
    "plt.title('Зависимость больничных от возраста Женщины')\n",
    "plt.show()"
   ]
  },
  {
   "cell_type": "markdown",
   "id": "cf01ae9a",
   "metadata": {},
   "source": [
    "**Вывод:**\n",
    "- **Посмотрели присутствуют ли зависимости между возрастом и количеством больничных дней для мужчин и женщин, определенной зависимости здесь не наблюдается**"
   ]
  },
  {
   "cell_type": "markdown",
   "id": "ec9a2de2",
   "metadata": {},
   "source": [
    "# 2. Решение задач\n",
    "## Задача 1\n",
    "> **Мужчины пропускают в течение года более 2 рабочих дней (work_days) по болезни значимо чаще женщин.**"
   ]
  },
  {
   "cell_type": "code",
   "execution_count": 20,
   "id": "286623ca",
   "metadata": {},
   "outputs": [
    {
     "data": {
      "text/html": [
       "<div>\n",
       "<style scoped>\n",
       "    .dataframe tbody tr th:only-of-type {\n",
       "        vertical-align: middle;\n",
       "    }\n",
       "\n",
       "    .dataframe tbody tr th {\n",
       "        vertical-align: top;\n",
       "    }\n",
       "\n",
       "    .dataframe thead th {\n",
       "        text-align: right;\n",
       "    }\n",
       "</style>\n",
       "<table border=\"1\" class=\"dataframe\">\n",
       "  <thead>\n",
       "    <tr style=\"text-align: right;\">\n",
       "      <th></th>\n",
       "      <th>Количество больничных дней</th>\n",
       "      <th>Возраст</th>\n",
       "      <th>Пол</th>\n",
       "      <th>Больничный&gt;2дней</th>\n",
       "    </tr>\n",
       "  </thead>\n",
       "  <tbody>\n",
       "    <tr>\n",
       "      <th>0</th>\n",
       "      <td>5</td>\n",
       "      <td>39</td>\n",
       "      <td>Ж</td>\n",
       "      <td>1</td>\n",
       "    </tr>\n",
       "    <tr>\n",
       "      <th>1</th>\n",
       "      <td>4</td>\n",
       "      <td>54</td>\n",
       "      <td>М</td>\n",
       "      <td>1</td>\n",
       "    </tr>\n",
       "    <tr>\n",
       "      <th>2</th>\n",
       "      <td>4</td>\n",
       "      <td>26</td>\n",
       "      <td>М</td>\n",
       "      <td>1</td>\n",
       "    </tr>\n",
       "    <tr>\n",
       "      <th>3</th>\n",
       "      <td>5</td>\n",
       "      <td>42</td>\n",
       "      <td>М</td>\n",
       "      <td>1</td>\n",
       "    </tr>\n",
       "    <tr>\n",
       "      <th>4</th>\n",
       "      <td>4</td>\n",
       "      <td>29</td>\n",
       "      <td>М</td>\n",
       "      <td>1</td>\n",
       "    </tr>\n",
       "  </tbody>\n",
       "</table>\n",
       "</div>"
      ],
      "text/plain": [
       "   Количество больничных дней  Возраст Пол  Больничный>2дней\n",
       "0                           5       39   Ж                 1\n",
       "1                           4       54   М                 1\n",
       "2                           4       26   М                 1\n",
       "3                           5       42   М                 1\n",
       "4                           4       29   М                 1"
      ]
     },
     "execution_count": 20,
     "metadata": {},
     "output_type": "execute_result"
    }
   ],
   "source": [
    "#бинарный признак больничный больше 2х дней\n",
    "data['Больничный>2дней'] = (data['Количество больничных дней']>2)*1\n",
    "data.head()"
   ]
  },
  {
   "cell_type": "code",
   "execution_count": 21,
   "id": "5883b3c1",
   "metadata": {},
   "outputs": [
    {
     "data": {
      "text/plain": [
       "0.6371308016877637"
      ]
     },
     "execution_count": 21,
     "metadata": {},
     "output_type": "execute_result"
    }
   ],
   "source": [
    "#процент сотрудников уходящих на бл на более 2дней\n",
    "data['Больничный>2дней'].agg(['mean'])[0]"
   ]
  },
  {
   "cell_type": "code",
   "execution_count": 22,
   "id": "20a65974",
   "metadata": {},
   "outputs": [
    {
     "data": {
      "text/html": [
       "<div>\n",
       "<style scoped>\n",
       "    .dataframe tbody tr th:only-of-type {\n",
       "        vertical-align: middle;\n",
       "    }\n",
       "\n",
       "    .dataframe tbody tr th {\n",
       "        vertical-align: top;\n",
       "    }\n",
       "\n",
       "    .dataframe thead th {\n",
       "        text-align: right;\n",
       "    }\n",
       "</style>\n",
       "<table border=\"1\" class=\"dataframe\">\n",
       "  <thead>\n",
       "    <tr style=\"text-align: right;\">\n",
       "      <th></th>\n",
       "      <th>mean</th>\n",
       "      <th>count</th>\n",
       "    </tr>\n",
       "    <tr>\n",
       "      <th>Пол</th>\n",
       "      <th></th>\n",
       "      <th></th>\n",
       "    </tr>\n",
       "  </thead>\n",
       "  <tbody>\n",
       "    <tr>\n",
       "      <th>Ж</th>\n",
       "      <td>0.683673</td>\n",
       "      <td>98</td>\n",
       "    </tr>\n",
       "    <tr>\n",
       "      <th>М</th>\n",
       "      <td>0.604317</td>\n",
       "      <td>139</td>\n",
       "    </tr>\n",
       "  </tbody>\n",
       "</table>\n",
       "</div>"
      ],
      "text/plain": [
       "         mean  count\n",
       "Пол                 \n",
       "Ж    0.683673     98\n",
       "М    0.604317    139"
      ]
     },
     "execution_count": 22,
     "metadata": {},
     "output_type": "execute_result"
    }
   ],
   "source": [
    "#посмотрим статистически для обоих полов\n",
    "data.groupby('Пол')['Больничный>2дней'].agg(['mean', 'count'])"
   ]
  },
  {
   "cell_type": "markdown",
   "id": "117932a0",
   "metadata": {},
   "source": [
    "- $H_{0} - $ **Статистически значимой разницы между группами нет**\n",
    "\n",
    "- $H_{1} - $ **Статистически значимая разница между группами есть**\n",
    "- $\\alpha - $ **0.05**"
   ]
  },
  {
   "cell_type": "code",
   "execution_count": 23,
   "id": "cd767a7c",
   "metadata": {},
   "outputs": [],
   "source": [
    "#разделим на группы\n",
    "a = data[data['Пол']=='М']['Больничный>2дней']\n",
    "b = data[data['Пол']=='Ж']['Больничный>2дней']"
   ]
  },
  {
   "cell_type": "code",
   "execution_count": 24,
   "id": "d7838a4c",
   "metadata": {},
   "outputs": [
    {
     "data": {
      "text/plain": [
       "Ttest_indResult(statistic=-1.2607036468555317, pvalue=0.20878168641436354)"
      ]
     },
     "execution_count": 24,
     "metadata": {},
     "output_type": "execute_result"
    }
   ],
   "source": [
    "#ttest для независимых выборок\n",
    "ttest_ind(a, b, equal_var=False)"
   ]
  },
  {
   "cell_type": "markdown",
   "id": "79b017a4",
   "metadata": {},
   "source": [
    "**pvalue значительно больше уровня значимости, не отвергаем $H_{0}$**"
   ]
  },
  {
   "cell_type": "markdown",
   "id": "c23e06d5",
   "metadata": {},
   "source": [
    "**Вывод:**\n",
    "- **Если данные это не все сотрудники компании, а лишь часть, то оснований отвергать нулевую гипотезу(Мужчины статистически чаще уходят на больничный более 2 дней) у нас нет**\n",
    "- **Если данные это все сотрудники компании, то женщины уходят на больничный более двух дней в 68% случаях, в то время как мужчины лишь в 60% случаях**\n",
    "---"
   ]
  },
  {
   "cell_type": "markdown",
   "id": "45d0239d",
   "metadata": {},
   "source": [
    "## Задача 2\n",
    "> **Работники старше 35 лет (age) пропускают в течение года более 2 рабочих дней (work_days) по болезни значимо чаще своих более молодых коллег.**"
   ]
  },
  {
   "cell_type": "markdown",
   "id": "f7873495",
   "metadata": {},
   "source": [
    "- $H_{0} - $ **Статистически значимой разницы между группами нет**\n",
    "\n",
    "- $H_{1} - $ **Статистически значимая разница между группами есть**\n",
    "- $\\alpha - $ **0.05**"
   ]
  },
  {
   "cell_type": "code",
   "execution_count": 25,
   "id": "c486b231",
   "metadata": {},
   "outputs": [],
   "source": [
    "#разделим на группы по возрасту\n",
    "a = data[data['Возраст'] > 35]['Больничный>2дней']\n",
    "b = data[data['Возраст'] < 35]['Больничный>2дней']"
   ]
  },
  {
   "cell_type": "code",
   "execution_count": 26,
   "id": "89f297a0",
   "metadata": {},
   "outputs": [
    {
     "data": {
      "text/plain": [
       "Ttest_indResult(statistic=-0.4458038364790765, pvalue=0.657102134409535)"
      ]
     },
     "execution_count": 26,
     "metadata": {},
     "output_type": "execute_result"
    }
   ],
   "source": [
    "#ttest для независимых выборок\n",
    "ttest_ind(a, b, equal_var=False)"
   ]
  },
  {
   "cell_type": "markdown",
   "id": "0ebc81e7",
   "metadata": {},
   "source": [
    "**pvalue значительно больше уровня значимости, не отвергаем $H_{0}$**"
   ]
  },
  {
   "cell_type": "code",
   "execution_count": 27,
   "id": "08a0cab9",
   "metadata": {},
   "outputs": [],
   "source": [
    "#бинарный признак возраст более 35\n",
    "data['Возраст>35'] = (data['Возраст'] > 35)*1"
   ]
  },
  {
   "cell_type": "code",
   "execution_count": 28,
   "id": "3baf4561",
   "metadata": {},
   "outputs": [
    {
     "data": {
      "text/html": [
       "<div>\n",
       "<style scoped>\n",
       "    .dataframe tbody tr th:only-of-type {\n",
       "        vertical-align: middle;\n",
       "    }\n",
       "\n",
       "    .dataframe tbody tr th {\n",
       "        vertical-align: top;\n",
       "    }\n",
       "\n",
       "    .dataframe thead th {\n",
       "        text-align: right;\n",
       "    }\n",
       "</style>\n",
       "<table border=\"1\" class=\"dataframe\">\n",
       "  <thead>\n",
       "    <tr style=\"text-align: right;\">\n",
       "      <th></th>\n",
       "      <th>mean</th>\n",
       "      <th>count</th>\n",
       "    </tr>\n",
       "    <tr>\n",
       "      <th>Возраст&gt;35</th>\n",
       "      <th></th>\n",
       "      <th></th>\n",
       "    </tr>\n",
       "  </thead>\n",
       "  <tbody>\n",
       "    <tr>\n",
       "      <th>0</th>\n",
       "      <td>0.631579</td>\n",
       "      <td>57</td>\n",
       "    </tr>\n",
       "    <tr>\n",
       "      <th>1</th>\n",
       "      <td>0.638889</td>\n",
       "      <td>180</td>\n",
       "    </tr>\n",
       "  </tbody>\n",
       "</table>\n",
       "</div>"
      ],
      "text/plain": [
       "                mean  count\n",
       "Возраст>35                 \n",
       "0           0.631579     57\n",
       "1           0.638889    180"
      ]
     },
     "execution_count": 28,
     "metadata": {},
     "output_type": "execute_result"
    }
   ],
   "source": [
    "#статистически\n",
    "data.groupby('Возраст>35')['Больничный>2дней'].agg(['mean', 'count'])"
   ]
  },
  {
   "cell_type": "markdown",
   "id": "a5e8290e",
   "metadata": {},
   "source": [
    "**Вывод:**\n",
    "- **Если данные это не все сотрудники компании, а лишь часть, то оснований отвергать нулевую гипотезу(Сотрудники старше 35 лет уходят на больничный чаще) у нас нет**\n",
    "- **Если данные это все сотрудники компании, то в этом случае данные потверждают о том что различий между сотрудниками старше 35 и младше 35 нет**\n",
    "---"
   ]
  },
  {
   "cell_type": "markdown",
   "id": "e6af29bc",
   "metadata": {},
   "source": [
    "# Итоговый вывод\n",
    "- **Познакомились с данными всего 237 строк и 3 признака(Дней на больничном, Возраст, Пол), пропусков в данных нет, поправили кодировку, в дальнейшем при работе с данными предлагаю использовать латиницу**\n",
    "- **Возраст сотрудников в компании от 23 до 60 лет**\n",
    "- **В среднем у сотрудника больничный длится 3 дня, самый длительное отсутствие сотрудников по болезни составляет 8 дней**\n",
    "- **Мужчин в компании(139 сотрудников) больше чем женщин(98 сотрудниц)**\n",
    "- **Мужчины чаще берут больничный на 2-3 дня, женщины чаще берут больничный на 3-4 дня**\n",
    "---\n",
    "\n",
    "\n",
    "**Задача 1**\n",
    "> - **Если данные это не все сотрудники компании, а лишь часть, то оснований отвергать нулевую гипотезу(Мужчины статистически чаще уходят на больничный более 2 дней) у нас нет**\n",
    ">- **Если данные это все сотрудники компании, то женщины уходят на больничный более двух дней в 68% случаях, в то время как мужчины лишь в 60% случаях**\n",
    "---\n",
    "\n",
    "**Задача 2**\n",
    ">- **Если данные это не все сотрудники компании, а лишь часть, то оснований отвергать нулевую гипотезу(Сотрудники старше 35 лет уходят на больничный чаще) у нас нет**\n",
    ">- **Если данные это все сотрудники компании, то в этом случае данные тоже потверждают о том что различий между сотрудниками старше 35 и младше 35 нет**"
   ]
  },
  {
   "cell_type": "code",
   "execution_count": null,
   "id": "e795ec8c",
   "metadata": {},
   "outputs": [],
   "source": []
  }
 ],
 "metadata": {
  "kernelspec": {
   "display_name": "Python 3 (ipykernel)",
   "language": "python",
   "name": "python3"
  },
  "language_info": {
   "codemirror_mode": {
    "name": "ipython",
    "version": 3
   },
   "file_extension": ".py",
   "mimetype": "text/x-python",
   "name": "python",
   "nbconvert_exporter": "python",
   "pygments_lexer": "ipython3",
   "version": "3.9.13"
  }
 },
 "nbformat": 4,
 "nbformat_minor": 5
}
